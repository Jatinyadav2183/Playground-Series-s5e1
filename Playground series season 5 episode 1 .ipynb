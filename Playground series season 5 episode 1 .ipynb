{
 "cells": [
  {
   "cell_type": "markdown",
   "id": "2408888f-a827-41dc-b844-e4f8eec824c6",
   "metadata": {},
   "source": [
    "# Competition Name: Playground Series Season 5 Episode 1"
   ]
  },
  {
   "cell_type": "markdown",
   "id": "2fa743c3-3fc1-4c21-9d6b-67a5c3d9ada0",
   "metadata": {},
   "source": [
    "## Overview of Kaggle Competition "
   ]
  },
  {
   "cell_type": "markdown",
   "id": "1b16a379-b757-426f-853f-92c261106b62",
   "metadata": {},
   "source": [
    "The primary objective of this project is to predict future sales for a retail chain by analyzing historical sales data. The analysis takes into account various influencing factors, such as the date, store attributes, and product details. By accurately forecasting future sales, the retail chain can optimize inventory management, plan promotional campaigns, and improve operational efficiency."
   ]
  },
  {
   "cell_type": "markdown",
   "id": "a3de1d4d-2f02-4082-9d42-5e2ca265567b",
   "metadata": {},
   "source": [
    "## DataSet Overview"
   ]
  },
  {
   "cell_type": "markdown",
   "id": "ae2764ac-f993-4b6c-8a5e-197742d11496",
   "metadata": {},
   "source": [
    "1. **Training Data:**\n",
    "\n",
    "    Contains historical sales records.\n",
    "    Features include:\n",
    "        Date: The specific day of the recorded sales.\n",
    "        Store: Information about the store where the sales occurred.\n",
    "        Product Category: Classification of products sold.\n",
    "    Includes target variable: sales values, which are used for model training.\n",
    "   \n",
    "2. **Test Data:**\n",
    "\n",
    "    Contains the same features as the training dataset, excluding the target sales values.\n",
    "    The task involves predicting sales for the records in this dataset."
   ]
  },
  {
   "cell_type": "markdown",
   "id": "56795edb-a786-4dea-8a01-05e5ec912254",
   "metadata": {},
   "source": [
    "### Evaluation Metric"
   ]
  },
  {
   "cell_type": "markdown",
   "id": "fe0f2fa3-819b-42ae-a203-ca7309297afe",
   "metadata": {},
   "source": [
    "The model's performance will be evaluated using the Root Mean Squared Error (RMSE) metric. RMSE is calculated as follows:"
   ]
  },
  {
   "attachments": {
    "b070e8c7-2b0b-4e17-99db-c2a0f1eedfb9.png": {
     "image/png": "[encoded data removed]"
    }
   },
   "cell_type": "markdown",
   "id": "59c9795e-b4ed-49c7-80eb-95776a457d8f",
   "metadata": {},
   "source": [
    "![image.png](attachment:b070e8c7-2b0b-4e17-99db-c2a0f1eedfb9.png)"
   ]
  },
  {
   "cell_type": "markdown",
   "id": "ee58f476-f7a8-4e0c-baeb-99ca12f8101d",
   "metadata": {},
   "source": [
    "Where:\n",
    "\n",
    "    𝑛 = Number of predictions.\n",
    "    𝑦 = Predicted sales value\n",
    "    𝑖 = Actual sales value.\n",
    "\n",
    "A lower RMSE value indicates a better predictive model, as it signifies a smaller average error between predicted and actual sales."
   ]
  },
  {
   "cell_type": "markdown",
   "id": "d3420dfb-f43e-40f1-807c-79fac733e176",
   "metadata": {},
   "source": [
    "### Competition Focus\n"
   ]
  },
  {
   "cell_type": "markdown",
   "id": "b6b96f7b-6a89-4b53-a38a-b981c4e801f9",
   "metadata": {},
   "source": [
    "This competition emphasizes time-series forecasting and structured data handling, with a particular focus on:\n",
    "\n",
    "1. **Time-Series Forecasting Techniques:**\n",
    "\n",
    "    Utilize models like ARIMA, SARIMA, and Prophet to capture temporal dependencies.\n",
    "    Experiment with machine learning algorithms such as Gradient Boosting, Random Forest, or Neural Networks optimized for time-series data.\n",
    "\n",
    "2. **Handling Complex Data Patterns:**\n",
    "\n",
    "    Identify and model seasonal patterns in sales data, such as holidays or weekends.\n",
    "    Account for promotional campaigns and other marketing efforts that influence sales.\n",
    "\n",
    "3. **Feature Engineering:**\n",
    "\n",
    "    Encode categorical variables like store and product categories.\n",
    "    Handle missing values to ensure the dataset is complete and reliable.\n",
    "    Incorporate external features such as holidays, weather conditions, and economic indicators to enhance the model's contextual understanding.\n",
    "\n",
    "4. **Data Preprocessing:**\n",
    "\n",
    "    Normalize and scale features for models sensitive to feature distributions.\n",
    "    Create lagging or rolling features to capture recent trends in sales."
   ]
  },
  {
   "cell_type": "markdown",
   "id": "9fc631aa-4f0a-44c2-9dd7-7c86e44820c7",
   "metadata": {},
   "source": [
    "### Learning Opportunities"
   ]
  },
  {
   "cell_type": "markdown",
   "id": "7d5cdd5e-e085-4ff8-881c-65950ea35762",
   "metadata": {},
   "source": [
    "This project offers a robust platform to:\n",
    "\n",
    "1. **Master Time-Series Forecasting:**\n",
    "\n",
    "    Gain practical experience in handling temporal data.\n",
    "    Learn to balance simplicity and complexity in model selection for time-series problems.\n",
    "\n",
    "2. **Practice Regression Models:**\n",
    "\n",
    "    Experiment with linear regression, decision trees, and ensemble methods.\n",
    "    Develop hybrid models combining time-series techniques and regression.\n",
    "\n",
    "3. **Enhance Feature Engineering Skills:**\n",
    "\n",
    "    Explore the impact of adding lagged features, moving averages, and seasonal indicators.\n",
    "    Incorporate domain-specific knowledge, such as promotional events or holiday effects, to boost model accuracy.\n",
    "\n",
    "4. **Work with Evaluation Metrics:**\n",
    "\n",
    "    Understand how RMSE reflects model accuracy.\n",
    "    Learn to optimize hyperparameters to minimize RMSE while preventing overfitting."
   ]
  },
  {
   "cell_type": "markdown",
   "id": "6d3ea4de-7aa3-4b75-924f-48b6822d7490",
   "metadata": {},
   "source": [
    "# ***Let's start***"
   ]
  },
  {
   "cell_type": "markdown",
   "id": "f05b90cd-6b1f-4963-ba0d-cc0fce5d0010",
   "metadata": {},
   "source": [
    "## Import Libraries"
   ]
  },
  {
   "cell_type": "code",
   "execution_count": 1,
   "id": "4ad82e8f-8e9b-4778-bf37-d29b750d9647",
   "metadata": {},
   "outputs": [],
   "source": [
    "# Importing Numpy and Pandas for data processing and data wrangling\n",
    "import pandas as pd\n",
    "import numpy as np\n",
    "\n",
    "# importing tools for visulaisation\n",
    "import matplotlib.pyplot as plt\n",
    "import seaborn as sns\n",
    "\n",
    "# importing library used for data preprocessing\n",
    "from sklearn.preprocessing import StandardScaler\n",
    "from sklearn.preprocessing import MinMaxScaler, LabelEncoder\n",
    "\n",
    "#importing library for model selection\n",
    "from sklearn.model_selection import train_test_split\n",
    "\n",
    "#importing evaluation metric libraries\n",
    "from sklearn.metrics import mean_absolute_percentage_error\n",
    "\n",
    "# importing the tensorflow and keras model\n",
    "from tensorflow.keras.models import Sequential\n",
    "from tensorflow.keras.layers import LSTM, GRU, Dense\n",
    "from tensorflow.keras.optimizers import Adam\n",
    "\n"
   ]
  },
  {
   "cell_type": "markdown",
   "id": "f36c938b-6db8-4208-bdc8-ac78f77ffff0",
   "metadata": {},
   "source": [
    "## DataSet Loading"
   ]
  },
  {
   "cell_type": "code",
   "execution_count": 4,
   "id": "12f4b7cb-48a3-4809-a2bf-1f2b340f4e90",
   "metadata": {},
   "outputs": [],
   "source": [
    "# load dataset from github repository\n",
    "\n",
    "url_train = 'https://raw.github.com/Jatinyadav2183/Playground-Series-s5e1/main/train.csv'\n",
    "url_test = 'https://raw.github.com/Jatinyadav2183/Playground-Series-s5e1/main/test.csv'\n",
    "\n",
    "train_data = pd.read_csv(url_train)\n",
    "test_data = pd.read_csv(url_test)"
   ]
  },
  {
   "cell_type": "markdown",
   "id": "60d82250-fc86-4662-8d72-c800a6871a60",
   "metadata": {},
   "source": [
    "### DataSet First View"
   ]
  },
  {
   "cell_type": "code",
   "execution_count": 7,
   "id": "452273e7-c533-40e3-8d50-177daefac0e1",
   "metadata": {},
   "outputs": [
    {
     "data": {
      "text/html": [
       "<div>\n",
       "<style scoped>\n",
       "    .dataframe tbody tr th:only-of-type {\n",
       "        vertical-align: middle;\n",
       "    }\n",
       "\n",
       "    .dataframe tbody tr th {\n",
       "        vertical-align: top;\n",
       "    }\n",
       "\n",
       "    .dataframe thead th {\n",
       "        text-align: right;\n",
       "    }\n",
       "</style>\n",
       "<table border=\"1\" class=\"dataframe\">\n",
       "  <thead>\n",
       "    <tr style=\"text-align: right;\">\n",
       "      <th></th>\n",
       "      <th>id</th>\n",
       "      <th>date</th>\n",
       "      <th>country</th>\n",
       "      <th>store</th>\n",
       "      <th>product</th>\n",
       "      <th>num_sold</th>\n",
       "    </tr>\n",
       "  </thead>\n",
       "  <tbody>\n",
       "    <tr>\n",
       "      <th>0</th>\n",
       "      <td>0</td>\n",
       "      <td>2010-01-01</td>\n",
       "      <td>Canada</td>\n",
       "      <td>Discount Stickers</td>\n",
       "      <td>Holographic Goose</td>\n",
       "      <td>NaN</td>\n",
       "    </tr>\n",
       "    <tr>\n",
       "      <th>1</th>\n",
       "      <td>1</td>\n",
       "      <td>2010-01-01</td>\n",
       "      <td>Canada</td>\n",
       "      <td>Discount Stickers</td>\n",
       "      <td>Kaggle</td>\n",
       "      <td>973.0</td>\n",
       "    </tr>\n",
       "    <tr>\n",
       "      <th>2</th>\n",
       "      <td>2</td>\n",
       "      <td>2010-01-01</td>\n",
       "      <td>Canada</td>\n",
       "      <td>Discount Stickers</td>\n",
       "      <td>Kaggle Tiers</td>\n",
       "      <td>906.0</td>\n",
       "    </tr>\n",
       "    <tr>\n",
       "      <th>3</th>\n",
       "      <td>3</td>\n",
       "      <td>2010-01-01</td>\n",
       "      <td>Canada</td>\n",
       "      <td>Discount Stickers</td>\n",
       "      <td>Kerneler</td>\n",
       "      <td>423.0</td>\n",
       "    </tr>\n",
       "    <tr>\n",
       "      <th>4</th>\n",
       "      <td>4</td>\n",
       "      <td>2010-01-01</td>\n",
       "      <td>Canada</td>\n",
       "      <td>Discount Stickers</td>\n",
       "      <td>Kerneler Dark Mode</td>\n",
       "      <td>491.0</td>\n",
       "    </tr>\n",
       "  </tbody>\n",
       "</table>\n",
       "</div>"
      ],
      "text/plain": [
       "   id        date country              store             product  num_sold\n",
       "0   0  2010-01-01  Canada  Discount Stickers   Holographic Goose       NaN\n",
       "1   1  2010-01-01  Canada  Discount Stickers              Kaggle     973.0\n",
       "2   2  2010-01-01  Canada  Discount Stickers        Kaggle Tiers     906.0\n",
       "3   3  2010-01-01  Canada  Discount Stickers            Kerneler     423.0\n",
       "4   4  2010-01-01  Canada  Discount Stickers  Kerneler Dark Mode     491.0"
      ]
     },
     "execution_count": 7,
     "metadata": {},
     "output_type": "execute_result"
    }
   ],
   "source": [
    "# View top 5 rows of dataset\n",
    "train_data.head()"
   ]
  },
  {
   "cell_type": "markdown",
   "id": "6e8027d9-8da5-452a-b1b2-6b0aadf001b3",
   "metadata": {},
   "source": [
    "### Dataset Rows and Columns count"
   ]
  },
  {
   "cell_type": "code",
   "execution_count": 10,
   "id": "19f85e0d-274b-48e3-a814-10070f348674",
   "metadata": {},
   "outputs": [
    {
     "name": "stdout",
     "output_type": "stream",
     "text": [
      "Number of Rows are:  230130\n",
      "Number of Columns are:  6\n"
     ]
    }
   ],
   "source": [
    "# Checking number of rows and columns of the dataset using shape\n",
    "\n",
    "print(\"Number of Rows are: \", train_data.shape[0])\n",
    "print(\"Number of Columns are: \", train_data.shape[1])"
   ]
  },
  {
   "cell_type": "markdown",
   "id": "b897cf66-ff97-450c-a125-e17c6f119bdc",
   "metadata": {},
   "source": [
    "### Dataset Information\n"
   ]
  },
  {
   "cell_type": "code",
   "execution_count": 11,
   "id": "64e3bd8f-538a-48e6-8535-872277f391fd",
   "metadata": {},
   "outputs": [
    {
     "name": "stdout",
     "output_type": "stream",
     "text": [
      "<class 'pandas.core.frame.DataFrame'>\n",
      "RangeIndex: 230130 entries, 0 to 230129\n",
      "Data columns (total 6 columns):\n",
      " #   Column    Non-Null Count   Dtype  \n",
      "---  ------    --------------   -----  \n",
      " 0   id        230130 non-null  int64  \n",
      " 1   date      230130 non-null  object \n",
      " 2   country   230130 non-null  object \n",
      " 3   store     230130 non-null  object \n",
      " 4   product   230130 non-null  object \n",
      " 5   num_sold  221259 non-null  float64\n",
      "dtypes: float64(1), int64(1), object(4)\n",
      "memory usage: 10.5+ MB\n"
     ]
    }
   ],
   "source": [
    "# Checking information about the dataset using info\n",
    "\n",
    "train_data.info()"
   ]
  },
  {
   "cell_type": "markdown",
   "id": "aebe5a00-b75e-4a59-bba3-a402400457b0",
   "metadata": {},
   "source": [
    "### Duplicate Values"
   ]
  },
  {
   "cell_type": "code",
   "execution_count": 12,
   "id": "cf82d19d-0fd2-48b7-9e40-951f8c82d8db",
   "metadata": {},
   "outputs": [
    {
     "data": {
      "text/plain": [
       "id             0\n",
       "date           0\n",
       "country        0\n",
       "store          0\n",
       "product        0\n",
       "num_sold    8871\n",
       "dtype: int64"
      ]
     },
     "execution_count": 12,
     "metadata": {},
     "output_type": "execute_result"
    }
   ],
   "source": [
    "# Missing values / Null values count\n",
    "train_data.isnull().sum()"
   ]
  },
  {
   "cell_type": "markdown",
   "id": "ea009aff-e3b7-40bc-8ae7-873d9831577d",
   "metadata": {},
   "source": [
    "# ***Preprocessing***"
   ]
  },
  {
   "cell_type": "code",
   "execution_count": 15,
   "id": "0600f780-6fd6-42c2-bfcd-1732fc6ecd52",
   "metadata": {},
   "outputs": [
    {
     "data": {
      "text/plain": [
       "Index(['id', 'date', 'country', 'store', 'product', 'num_sold'], dtype='object')"
      ]
     },
     "execution_count": 15,
     "metadata": {},
     "output_type": "execute_result"
    }
   ],
   "source": [
    "train_data.columns"
   ]
  },
  {
   "cell_type": "code",
   "execution_count": 18,
   "id": "e99b29ae-2788-48de-91b1-886429893b95",
   "metadata": {},
   "outputs": [],
   "source": [
    "# Preprocessing\n",
    "# Ensure date is converted properly\n",
    "train_data['date'] = pd.to_datetime(train_data['date'], errors = 'coerce')\n",
    "\n",
    "# Handel potential NaT values\n",
    "if train_data['Date'].isna().any():\n",
    "    print(\" warning: some dates could not be parsed and are set to NaT. \")\n",
    "\n",
    "# Extract Year, Month, and Day from Date\n",
    "train_data['Year'] = train_data['date'].dt.year\n",
    "train_data['Month'] = train_data['date'].dt.month\n",
    "train_data['Day'] = train_data['date'].dt.day\n",
    "\n",
    "# Drop unnecessary columns\n",
    "train_data =  train_data.drop(['id','date'], axis = 1)\n",
    "\n",
    "# Ensure 'Num_sold' is non-negative before applying log1p\n",
    "if(train_data['num_sold'] < 0).any():\n",
    "    raise ValueError(\" Column 'num_sold' contains negative values.\")\n",
    "\n",
    "train_data['num_sold'] = np.log1p(train_data['num_sold'])"
   ]
  },
  {
   "cell_type": "code",
   "execution_count": 19,
   "id": "53e86a9b-be99-4186-9838-9e2651dcd5e7",
   "metadata": {},
   "outputs": [],
   "source": [
    "# Encode categorical columns\n",
    "\n",
    "categorical_cols = ['country', 'store', 'product']\n",
    "\n",
    "label_encoders = {}\n",
    "\n",
    "for col in categorical_cols:\n",
    "    le = LabelEncoder()\n",
    "    train_data[col] = le.fit_transform(train_data[col])\n",
    "    label_encoders[col] = le"
   ]
  },
  {
   "cell_type": "code",
   "execution_count": 22,
   "id": "6dbb9214-5c6e-428c-9c06-617376a09425",
   "metadata": {},
   "outputs": [],
   "source": [
    "# Split feature and target\n",
    "X = train_data.drop('num_sold', axis =1)\n",
    "y = train_data['num_sold']"
   ]
  },
  {
   "cell_type": "code",
   "execution_count": 24,
   "id": "33c74d1a-a065-4fdd-8f79-621fb05a4cb9",
   "metadata": {},
   "outputs": [
    {
     "name": "stdout",
     "output_type": "stream",
     "text": [
      "X_train_scaled Shape: (177007, 6)\n",
      "y_trainy_train_scaled shape: (177007, 1)\n",
      "X_train_reshaped Shape: (177007, 1, 6)\n",
      "X_Valid_reshaped shape: (44252, 1, 6)\n"
     ]
    }
   ],
   "source": [
    "# Splitting the data to train and test\n",
    "X_train, X_valid, y_train, y_valid = train_test_split(X,y,test_size=0.2, random_state=42)\n",
    "\n",
    "# Emsure that X and Y have the same number of samples\n",
    "train_data = train_data.dropna(subset=['num_sold'])\n",
    "\n",
    "# Drop rows where 'num_sold' is NaN\n",
    "\n",
    "# Split features and target again after dropping rows with NaN in the target\n",
    "X = train_data.drop('num_sold',axis = 1)\n",
    "y = train_data['num_sold']\n",
    "\n",
    "#Ensure X contains only numberic value\n",
    "X= X.select_dtypes(include=[np.number])\n",
    "\n",
    "# Handle NaNs and infinities in X\n",
    "X=X.replace([np.inf, -np.inf], np.nan).dropna()\n",
    "\n",
    "# Ensure y is numeric and free of NaNs\n",
    "\n",
    "y=y.astype(float)\n",
    "\n",
    "# Splitting the data to train and test\n",
    "X_train, X_valid, y_train, y_valid = train_test_split(X,y,test_size=0.2, random_state=42)\n",
    "\n",
    "# Scale input features\n",
    "\n",
    "scaler = MinMaxScaler()\n",
    "X_train_scaled = scaler.fit_transform(X_train)\n",
    "X_valid_scaled = scaler.transform(X_valid)\n",
    "\n",
    "# scale target variables\n",
    "target_scaler = StandardScaler()\n",
    "y_train_scaled = target_scaler.fit_transform(y_train.values.reshape(-1,1))\n",
    "y_valid_scaled = target_scaler.transform(y_valid.values.reshape(-1,1))\n",
    "\n",
    "#print shapes to ensure correctness\n",
    "\n",
    "print(f\"X_train_scaled Shape: {X_train_scaled.shape}\")\n",
    "print(f\"y_trainy_train_scaled shape: {y_train_scaled.shape}\")\n",
    "\n",
    "# reshape inputs for LSTM\n",
    "X_train_reshaped = X_train_scaled.reshape(X_train_scaled.shape[0], 1, X_train_scaled.shape[1])\n",
    "X_valid_reshaped = X_valid_scaled.reshape(X_valid_scaled.shape[0], 1, X_valid_scaled.shape[1])\n",
    "\n",
    "# Print Reshaped output\n",
    "print(f\"X_train_reshaped Shape: {X_train_reshaped.shape}\")\n",
    "print(f\"X_Valid_reshaped shape: {X_valid_reshaped.shape}\")\n"
   ]
  },
  {
   "cell_type": "markdown",
   "id": "1414ce08-0cad-49e7-84d4-05c22789f79f",
   "metadata": {},
   "source": [
    "## ***LSTM***  "
   ]
  },
  {
   "cell_type": "code",
   "execution_count": 39,
   "id": "80ebac32-c6a9-4d8d-b13f-ff4d74955f40",
   "metadata": {},
   "outputs": [
    {
     "name": "stderr",
     "output_type": "stream",
     "text": [
      "C:\\Users\\yadav-jatin\\AppData\\Local\\Programs\\Python\\Python312\\Lib\\site-packages\\keras\\src\\layers\\rnn\\rnn.py:200: UserWarning: Do not pass an `input_shape`/`input_dim` argument to a layer. When using Sequential models, prefer using an `Input(shape)` object as the first layer in the model instead.\n",
      "  super().__init__(**kwargs)\n"
     ]
    },
    {
     "data": {
      "text/html": [
       "<pre style=\"white-space:pre;overflow-x:auto;line-height:normal;font-family:Menlo,'DejaVu Sans Mono',consolas,'Courier New',monospace\"><span style=\"font-weight: bold\">Model: \"sequential_7\"</span>\n",
       "</pre>\n"
      ],
      "text/plain": [
       "\u001b[1mModel: \"sequential_7\"\u001b[0m\n"
      ]
     },
     "metadata": {},
     "output_type": "display_data"
    },
    {
     "data": {
      "text/html": [
       "<pre style=\"white-space:pre;overflow-x:auto;line-height:normal;font-family:Menlo,'DejaVu Sans Mono',consolas,'Courier New',monospace\">┏━━━━━━━━━━━━━━━━━━━━━━━━━━━━━━━━━━━━━━┳━━━━━━━━━━━━━━━━━━━━━━━━━━━━━┳━━━━━━━━━━━━━━━━━┓\n",
       "┃<span style=\"font-weight: bold\"> Layer (type)                         </span>┃<span style=\"font-weight: bold\"> Output Shape                </span>┃<span style=\"font-weight: bold\">         Param # </span>┃\n",
       "┡━━━━━━━━━━━━━━━━━━━━━━━━━━━━━━━━━━━━━━╇━━━━━━━━━━━━━━━━━━━━━━━━━━━━━╇━━━━━━━━━━━━━━━━━┩\n",
       "│ lstm_11 (<span style=\"color: #0087ff; text-decoration-color: #0087ff\">LSTM</span>)                       │ (<span style=\"color: #00d7ff; text-decoration-color: #00d7ff\">None</span>, <span style=\"color: #00af00; text-decoration-color: #00af00\">1</span>, <span style=\"color: #00af00; text-decoration-color: #00af00\">50</span>)               │          <span style=\"color: #00af00; text-decoration-color: #00af00\">11,400</span> │\n",
       "├──────────────────────────────────────┼─────────────────────────────┼─────────────────┤\n",
       "│ dropout_6 (<span style=\"color: #0087ff; text-decoration-color: #0087ff\">Dropout</span>)                  │ (<span style=\"color: #00d7ff; text-decoration-color: #00d7ff\">None</span>, <span style=\"color: #00af00; text-decoration-color: #00af00\">1</span>, <span style=\"color: #00af00; text-decoration-color: #00af00\">50</span>)               │               <span style=\"color: #00af00; text-decoration-color: #00af00\">0</span> │\n",
       "├──────────────────────────────────────┼─────────────────────────────┼─────────────────┤\n",
       "│ lstm_12 (<span style=\"color: #0087ff; text-decoration-color: #0087ff\">LSTM</span>)                       │ (<span style=\"color: #00d7ff; text-decoration-color: #00d7ff\">None</span>, <span style=\"color: #00af00; text-decoration-color: #00af00\">1</span>, <span style=\"color: #00af00; text-decoration-color: #00af00\">50</span>)               │          <span style=\"color: #00af00; text-decoration-color: #00af00\">20,200</span> │\n",
       "├──────────────────────────────────────┼─────────────────────────────┼─────────────────┤\n",
       "│ dropout_7 (<span style=\"color: #0087ff; text-decoration-color: #0087ff\">Dropout</span>)                  │ (<span style=\"color: #00d7ff; text-decoration-color: #00d7ff\">None</span>, <span style=\"color: #00af00; text-decoration-color: #00af00\">1</span>, <span style=\"color: #00af00; text-decoration-color: #00af00\">50</span>)               │               <span style=\"color: #00af00; text-decoration-color: #00af00\">0</span> │\n",
       "├──────────────────────────────────────┼─────────────────────────────┼─────────────────┤\n",
       "│ lstm_13 (<span style=\"color: #0087ff; text-decoration-color: #0087ff\">LSTM</span>)                       │ (<span style=\"color: #00d7ff; text-decoration-color: #00d7ff\">None</span>, <span style=\"color: #00af00; text-decoration-color: #00af00\">50</span>)                  │          <span style=\"color: #00af00; text-decoration-color: #00af00\">20,200</span> │\n",
       "├──────────────────────────────────────┼─────────────────────────────┼─────────────────┤\n",
       "│ dropout_8 (<span style=\"color: #0087ff; text-decoration-color: #0087ff\">Dropout</span>)                  │ (<span style=\"color: #00d7ff; text-decoration-color: #00d7ff\">None</span>, <span style=\"color: #00af00; text-decoration-color: #00af00\">50</span>)                  │               <span style=\"color: #00af00; text-decoration-color: #00af00\">0</span> │\n",
       "├──────────────────────────────────────┼─────────────────────────────┼─────────────────┤\n",
       "│ dense_4 (<span style=\"color: #0087ff; text-decoration-color: #0087ff\">Dense</span>)                      │ (<span style=\"color: #00d7ff; text-decoration-color: #00d7ff\">None</span>, <span style=\"color: #00af00; text-decoration-color: #00af00\">1</span>)                   │              <span style=\"color: #00af00; text-decoration-color: #00af00\">51</span> │\n",
       "└──────────────────────────────────────┴─────────────────────────────┴─────────────────┘\n",
       "</pre>\n"
      ],
      "text/plain": [
       "┏━━━━━━━━━━━━━━━━━━━━━━━━━━━━━━━━━━━━━━┳━━━━━━━━━━━━━━━━━━━━━━━━━━━━━┳━━━━━━━━━━━━━━━━━┓\n",
       "┃\u001b[1m \u001b[0m\u001b[1mLayer (type)                        \u001b[0m\u001b[1m \u001b[0m┃\u001b[1m \u001b[0m\u001b[1mOutput Shape               \u001b[0m\u001b[1m \u001b[0m┃\u001b[1m \u001b[0m\u001b[1m        Param #\u001b[0m\u001b[1m \u001b[0m┃\n",
       "┡━━━━━━━━━━━━━━━━━━━━━━━━━━━━━━━━━━━━━━╇━━━━━━━━━━━━━━━━━━━━━━━━━━━━━╇━━━━━━━━━━━━━━━━━┩\n",
       "│ lstm_11 (\u001b[38;5;33mLSTM\u001b[0m)                       │ (\u001b[38;5;45mNone\u001b[0m, \u001b[38;5;34m1\u001b[0m, \u001b[38;5;34m50\u001b[0m)               │          \u001b[38;5;34m11,400\u001b[0m │\n",
       "├──────────────────────────────────────┼─────────────────────────────┼─────────────────┤\n",
       "│ dropout_6 (\u001b[38;5;33mDropout\u001b[0m)                  │ (\u001b[38;5;45mNone\u001b[0m, \u001b[38;5;34m1\u001b[0m, \u001b[38;5;34m50\u001b[0m)               │               \u001b[38;5;34m0\u001b[0m │\n",
       "├──────────────────────────────────────┼─────────────────────────────┼─────────────────┤\n",
       "│ lstm_12 (\u001b[38;5;33mLSTM\u001b[0m)                       │ (\u001b[38;5;45mNone\u001b[0m, \u001b[38;5;34m1\u001b[0m, \u001b[38;5;34m50\u001b[0m)               │          \u001b[38;5;34m20,200\u001b[0m │\n",
       "├──────────────────────────────────────┼─────────────────────────────┼─────────────────┤\n",
       "│ dropout_7 (\u001b[38;5;33mDropout\u001b[0m)                  │ (\u001b[38;5;45mNone\u001b[0m, \u001b[38;5;34m1\u001b[0m, \u001b[38;5;34m50\u001b[0m)               │               \u001b[38;5;34m0\u001b[0m │\n",
       "├──────────────────────────────────────┼─────────────────────────────┼─────────────────┤\n",
       "│ lstm_13 (\u001b[38;5;33mLSTM\u001b[0m)                       │ (\u001b[38;5;45mNone\u001b[0m, \u001b[38;5;34m50\u001b[0m)                  │          \u001b[38;5;34m20,200\u001b[0m │\n",
       "├──────────────────────────────────────┼─────────────────────────────┼─────────────────┤\n",
       "│ dropout_8 (\u001b[38;5;33mDropout\u001b[0m)                  │ (\u001b[38;5;45mNone\u001b[0m, \u001b[38;5;34m50\u001b[0m)                  │               \u001b[38;5;34m0\u001b[0m │\n",
       "├──────────────────────────────────────┼─────────────────────────────┼─────────────────┤\n",
       "│ dense_4 (\u001b[38;5;33mDense\u001b[0m)                      │ (\u001b[38;5;45mNone\u001b[0m, \u001b[38;5;34m1\u001b[0m)                   │              \u001b[38;5;34m51\u001b[0m │\n",
       "└──────────────────────────────────────┴─────────────────────────────┴─────────────────┘\n"
      ]
     },
     "metadata": {},
     "output_type": "display_data"
    },
    {
     "data": {
      "text/html": [
       "<pre style=\"white-space:pre;overflow-x:auto;line-height:normal;font-family:Menlo,'DejaVu Sans Mono',consolas,'Courier New',monospace\"><span style=\"font-weight: bold\"> Total params: </span><span style=\"color: #00af00; text-decoration-color: #00af00\">51,851</span> (202.54 KB)\n",
       "</pre>\n"
      ],
      "text/plain": [
       "\u001b[1m Total params: \u001b[0m\u001b[38;5;34m51,851\u001b[0m (202.54 KB)\n"
      ]
     },
     "metadata": {},
     "output_type": "display_data"
    },
    {
     "data": {
      "text/html": [
       "<pre style=\"white-space:pre;overflow-x:auto;line-height:normal;font-family:Menlo,'DejaVu Sans Mono',consolas,'Courier New',monospace\"><span style=\"font-weight: bold\"> Trainable params: </span><span style=\"color: #00af00; text-decoration-color: #00af00\">51,851</span> (202.54 KB)\n",
       "</pre>\n"
      ],
      "text/plain": [
       "\u001b[1m Trainable params: \u001b[0m\u001b[38;5;34m51,851\u001b[0m (202.54 KB)\n"
      ]
     },
     "metadata": {},
     "output_type": "display_data"
    },
    {
     "data": {
      "text/html": [
       "<pre style=\"white-space:pre;overflow-x:auto;line-height:normal;font-family:Menlo,'DejaVu Sans Mono',consolas,'Courier New',monospace\"><span style=\"font-weight: bold\"> Non-trainable params: </span><span style=\"color: #00af00; text-decoration-color: #00af00\">0</span> (0.00 B)\n",
       "</pre>\n"
      ],
      "text/plain": [
       "\u001b[1m Non-trainable params: \u001b[0m\u001b[38;5;34m0\u001b[0m (0.00 B)\n"
      ]
     },
     "metadata": {},
     "output_type": "display_data"
    },
    {
     "name": "stdout",
     "output_type": "stream",
     "text": [
      "Epoch 1/20\n",
      "\u001b[1m5532/5532\u001b[0m \u001b[32m━━━━━━━━━━━━━━━━━━━━\u001b[0m\u001b[37m\u001b[0m \u001b[1m39s\u001b[0m 5ms/step - loss: 0.4100 - val_loss: 0.0218\n",
      "Epoch 2/20\n",
      "\u001b[1m5532/5532\u001b[0m \u001b[32m━━━━━━━━━━━━━━━━━━━━\u001b[0m\u001b[37m\u001b[0m \u001b[1m28s\u001b[0m 5ms/step - loss: 0.0510 - val_loss: 0.0156\n",
      "Epoch 3/20\n",
      "\u001b[1m5532/5532\u001b[0m \u001b[32m━━━━━━━━━━━━━━━━━━━━\u001b[0m\u001b[37m\u001b[0m \u001b[1m30s\u001b[0m 5ms/step - loss: 0.0417 - val_loss: 0.0127\n",
      "Epoch 4/20\n",
      "\u001b[1m5532/5532\u001b[0m \u001b[32m━━━━━━━━━━━━━━━━━━━━\u001b[0m\u001b[37m\u001b[0m \u001b[1m28s\u001b[0m 5ms/step - loss: 0.0373 - val_loss: 0.0118\n",
      "Epoch 5/20\n",
      "\u001b[1m5532/5532\u001b[0m \u001b[32m━━━━━━━━━━━━━━━━━━━━\u001b[0m\u001b[37m\u001b[0m \u001b[1m28s\u001b[0m 5ms/step - loss: 0.0337 - val_loss: 0.0106\n",
      "Epoch 6/20\n",
      "\u001b[1m5532/5532\u001b[0m \u001b[32m━━━━━━━━━━━━━━━━━━━━\u001b[0m\u001b[37m\u001b[0m \u001b[1m27s\u001b[0m 5ms/step - loss: 0.0316 - val_loss: 0.0100\n",
      "Epoch 7/20\n",
      "\u001b[1m5532/5532\u001b[0m \u001b[32m━━━━━━━━━━━━━━━━━━━━\u001b[0m\u001b[37m\u001b[0m \u001b[1m26s\u001b[0m 5ms/step - loss: 0.0297 - val_loss: 0.0102\n",
      "Epoch 8/20\n",
      "\u001b[1m5532/5532\u001b[0m \u001b[32m━━━━━━━━━━━━━━━━━━━━\u001b[0m\u001b[37m\u001b[0m \u001b[1m26s\u001b[0m 5ms/step - loss: 0.0290 - val_loss: 0.0098\n",
      "Epoch 9/20\n",
      "\u001b[1m5532/5532\u001b[0m \u001b[32m━━━━━━━━━━━━━━━━━━━━\u001b[0m\u001b[37m\u001b[0m \u001b[1m27s\u001b[0m 5ms/step - loss: 0.0281 - val_loss: 0.0103\n",
      "Epoch 10/20\n",
      "\u001b[1m5532/5532\u001b[0m \u001b[32m━━━━━━━━━━━━━━━━━━━━\u001b[0m\u001b[37m\u001b[0m \u001b[1m40s\u001b[0m 5ms/step - loss: 0.0271 - val_loss: 0.0092\n",
      "Epoch 11/20\n",
      "\u001b[1m5532/5532\u001b[0m \u001b[32m━━━━━━━━━━━━━━━━━━━━\u001b[0m\u001b[37m\u001b[0m \u001b[1m26s\u001b[0m 5ms/step - loss: 0.0267 - val_loss: 0.0099\n",
      "Epoch 12/20\n",
      "\u001b[1m5532/5532\u001b[0m \u001b[32m━━━━━━━━━━━━━━━━━━━━\u001b[0m\u001b[37m\u001b[0m \u001b[1m27s\u001b[0m 5ms/step - loss: 0.0263 - val_loss: 0.0098\n",
      "Epoch 13/20\n",
      "\u001b[1m5532/5532\u001b[0m \u001b[32m━━━━━━━━━━━━━━━━━━━━\u001b[0m\u001b[37m\u001b[0m \u001b[1m26s\u001b[0m 5ms/step - loss: 0.0263 - val_loss: 0.0095\n",
      "Epoch 14/20\n",
      "\u001b[1m5532/5532\u001b[0m \u001b[32m━━━━━━━━━━━━━━━━━━━━\u001b[0m\u001b[37m\u001b[0m \u001b[1m26s\u001b[0m 5ms/step - loss: 0.0251 - val_loss: 0.0102\n",
      "Epoch 15/20\n",
      "\u001b[1m5532/5532\u001b[0m \u001b[32m━━━━━━━━━━━━━━━━━━━━\u001b[0m\u001b[37m\u001b[0m \u001b[1m27s\u001b[0m 5ms/step - loss: 0.0250 - val_loss: 0.0085\n",
      "Epoch 16/20\n",
      "\u001b[1m5532/5532\u001b[0m \u001b[32m━━━━━━━━━━━━━━━━━━━━\u001b[0m\u001b[37m\u001b[0m \u001b[1m26s\u001b[0m 5ms/step - loss: 0.0249 - val_loss: 0.0096\n",
      "Epoch 17/20\n",
      "\u001b[1m5532/5532\u001b[0m \u001b[32m━━━━━━━━━━━━━━━━━━━━\u001b[0m\u001b[37m\u001b[0m \u001b[1m26s\u001b[0m 5ms/step - loss: 0.0244 - val_loss: 0.0088\n",
      "Epoch 18/20\n",
      "\u001b[1m5532/5532\u001b[0m \u001b[32m━━━━━━━━━━━━━━━━━━━━\u001b[0m\u001b[37m\u001b[0m \u001b[1m26s\u001b[0m 5ms/step - loss: 0.0247 - val_loss: 0.0085\n",
      "Epoch 19/20\n",
      "\u001b[1m5532/5532\u001b[0m \u001b[32m━━━━━━━━━━━━━━━━━━━━\u001b[0m\u001b[37m\u001b[0m \u001b[1m26s\u001b[0m 5ms/step - loss: 0.0242 - val_loss: 0.0091\n",
      "Epoch 20/20\n",
      "\u001b[1m5532/5532\u001b[0m \u001b[32m━━━━━━━━━━━━━━━━━━━━\u001b[0m\u001b[37m\u001b[0m \u001b[1m24s\u001b[0m 4ms/step - loss: 0.0238 - val_loss: 0.0081\n"
     ]
    }
   ],
   "source": [
    "from tensorflow.keras.layers import Dropout\n",
    "\n",
    "# Build the model\n",
    "\n",
    "lstm_model = Sequential()\n",
    "lstm_model.add(LSTM(units= 50, activation='relu', return_sequences=True, input_shape = (X_train_reshaped.shape[1], X_train_reshaped.shape[2])))\n",
    "lstm_model.add(Dropout(0.2))\n",
    "lstm_model.add(LSTM(units=50, activation='relu',return_sequences=True))\n",
    "lstm_model.add(Dropout(0.2))\n",
    "lstm_model.add(LSTM(units=50, activation='relu'))\n",
    "lstm_model.add(Dropout(0.2))\n",
    "lstm_model.add(Dense(1))\n",
    "\n",
    "# Compile the model\n",
    "\n",
    "lstm_model.compile(optimizer=Adam(learning_rate=0.001), loss = 'mse')\n",
    "lstm_model.summary()\n",
    "\n",
    "# Train the Model\n",
    "history = lstm_model.fit(X_train_reshaped, y_train_scaled, epochs=20, batch_size=32, validation_data=(X_valid_reshaped, y_valid_scaled))"
   ]
  },
  {
   "cell_type": "code",
   "execution_count": 40,
   "id": "6ccbd067-eba9-4771-b6b8-e2b687da6fab",
   "metadata": {},
   "outputs": [
    {
     "name": "stdout",
     "output_type": "stream",
     "text": [
      "\u001b[1m1383/1383\u001b[0m \u001b[32m━━━━━━━━━━━━━━━━━━━━\u001b[0m\u001b[37m\u001b[0m \u001b[1m4s\u001b[0m 2ms/step\n",
      "[[1441.6826  ]\n",
      " [1013.09607 ]\n",
      " [ 298.6849  ]\n",
      " ...\n",
      " [  21.267021]\n",
      " [1242.8665  ]\n",
      " [1162.0994  ]]\n",
      " LSTM Validation MAPE: 0.10744628158313164\n"
     ]
    }
   ],
   "source": [
    "y_valid_pred = lstm_model.predict(X_valid_reshaped)\n",
    "y_valid_pred = target_scaler.inverse_transform(y_valid_pred) \n",
    "\n",
    "# Convert predictions back to original scale\n",
    "y_valid_pred_original = np.expm1(y_valid_pred)\n",
    "print(y_valid_pred_original)\n",
    "\n",
    "# Calculate MAPE on the validation data\n",
    "mape = mean_absolute_percentage_error(np.expm1(y_valid), np.expm1(y_valid_pred))\n",
    "\n",
    "print(f\" LSTM Validation MAPE: {mape}\")\n"
   ]
  },
  {
   "cell_type": "code",
   "execution_count": 41,
   "id": "6663368f-f8f5-4c79-b4ba-316284339953",
   "metadata": {},
   "outputs": [
    {
     "data": {
      "image/png": "[encoded data removed]",
      "text/plain": [
       "<Figure size 640x480 with 1 Axes>"
      ]
     },
     "metadata": {},
     "output_type": "display_data"
    }
   ],
   "source": [
    "# plot the loss curve\n",
    "\n",
    "plt.plot(history.history['loss'], label = 'Train')\n",
    "plt.plot(history.history['val_loss'], label = 'Val')\n",
    "plt.title(\"loss Cruve\")\n",
    "plt.xlabel(\"Epochs\")\n",
    "plt.ylabel(\"Loss\")\n",
    "plt.legend()\n",
    "plt.show()"
   ]
  },
  {
   "cell_type": "markdown",
   "id": "b32310f2-1d94-467f-b7f0-21929faca40a",
   "metadata": {},
   "source": [
    "## ***GRU***"
   ]
  },
  {
   "cell_type": "code",
   "execution_count": 43,
   "id": "9700588d-8de5-4dfc-b307-e50f07b0d073",
   "metadata": {},
   "outputs": [
    {
     "name": "stderr",
     "output_type": "stream",
     "text": [
      "C:\\Users\\yadav-jatin\\AppData\\Local\\Programs\\Python\\Python312\\Lib\\site-packages\\keras\\src\\layers\\rnn\\rnn.py:200: UserWarning: Do not pass an `input_shape`/`input_dim` argument to a layer. When using Sequential models, prefer using an `Input(shape)` object as the first layer in the model instead.\n",
      "  super().__init__(**kwargs)\n"
     ]
    },
    {
     "name": "stdout",
     "output_type": "stream",
     "text": [
      "Epoch 1/50\n",
      "\u001b[1m5532/5532\u001b[0m \u001b[32m━━━━━━━━━━━━━━━━━━━━\u001b[0m\u001b[37m\u001b[0m \u001b[1m25s\u001b[0m 4ms/step - loss: 4.7085 - val_loss: 0.7463\n",
      "Epoch 2/50\n",
      "\u001b[1m5532/5532\u001b[0m \u001b[32m━━━━━━━━━━━━━━━━━━━━\u001b[0m\u001b[37m\u001b[0m \u001b[1m18s\u001b[0m 3ms/step - loss: 0.4958 - val_loss: 0.0523\n",
      "Epoch 3/50\n",
      "\u001b[1m5532/5532\u001b[0m \u001b[32m━━━━━━━━━━━━━━━━━━━━\u001b[0m\u001b[37m\u001b[0m \u001b[1m18s\u001b[0m 3ms/step - loss: 0.0425 - val_loss: 0.0254\n",
      "Epoch 4/50\n",
      "\u001b[1m5532/5532\u001b[0m \u001b[32m━━━━━━━━━━━━━━━━━━━━\u001b[0m\u001b[37m\u001b[0m \u001b[1m19s\u001b[0m 3ms/step - loss: 0.0198 - val_loss: 0.0168\n",
      "Epoch 5/50\n",
      "\u001b[1m5532/5532\u001b[0m \u001b[32m━━━━━━━━━━━━━━━━━━━━\u001b[0m\u001b[37m\u001b[0m \u001b[1m18s\u001b[0m 3ms/step - loss: 0.0178 - val_loss: 0.0181\n",
      "Epoch 6/50\n",
      "\u001b[1m5532/5532\u001b[0m \u001b[32m━━━━━━━━━━━━━━━━━━━━\u001b[0m\u001b[37m\u001b[0m \u001b[1m17s\u001b[0m 3ms/step - loss: 0.0164 - val_loss: 0.0155\n",
      "Epoch 7/50\n",
      "\u001b[1m5532/5532\u001b[0m \u001b[32m━━━━━━━━━━━━━━━━━━━━\u001b[0m\u001b[37m\u001b[0m \u001b[1m17s\u001b[0m 3ms/step - loss: 0.0156 - val_loss: 0.0154\n",
      "Epoch 8/50\n",
      "\u001b[1m5532/5532\u001b[0m \u001b[32m━━━━━━━━━━━━━━━━━━━━\u001b[0m\u001b[37m\u001b[0m \u001b[1m17s\u001b[0m 3ms/step - loss: 0.0154 - val_loss: 0.0142\n",
      "Epoch 9/50\n",
      "\u001b[1m5532/5532\u001b[0m \u001b[32m━━━━━━━━━━━━━━━━━━━━\u001b[0m\u001b[37m\u001b[0m \u001b[1m18s\u001b[0m 3ms/step - loss: 0.0151 - val_loss: 0.0141\n",
      "Epoch 10/50\n",
      "\u001b[1m5532/5532\u001b[0m \u001b[32m━━━━━━━━━━━━━━━━━━━━\u001b[0m\u001b[37m\u001b[0m \u001b[1m18s\u001b[0m 3ms/step - loss: 0.0150 - val_loss: 0.0139\n",
      "Epoch 11/50\n",
      "\u001b[1m5532/5532\u001b[0m \u001b[32m━━━━━━━━━━━━━━━━━━━━\u001b[0m\u001b[37m\u001b[0m \u001b[1m18s\u001b[0m 3ms/step - loss: 0.0145 - val_loss: 0.0150\n",
      "Epoch 12/50\n",
      "\u001b[1m5532/5532\u001b[0m \u001b[32m━━━━━━━━━━━━━━━━━━━━\u001b[0m\u001b[37m\u001b[0m \u001b[1m17s\u001b[0m 3ms/step - loss: 0.0143 - val_loss: 0.0138\n",
      "Epoch 13/50\n",
      "\u001b[1m5532/5532\u001b[0m \u001b[32m━━━━━━━━━━━━━━━━━━━━\u001b[0m\u001b[37m\u001b[0m \u001b[1m18s\u001b[0m 3ms/step - loss: 0.0141 - val_loss: 0.0130\n",
      "Epoch 14/50\n",
      "\u001b[1m5532/5532\u001b[0m \u001b[32m━━━━━━━━━━━━━━━━━━━━\u001b[0m\u001b[37m\u001b[0m \u001b[1m18s\u001b[0m 3ms/step - loss: 0.0139 - val_loss: 0.0125\n",
      "Epoch 15/50\n",
      "\u001b[1m5532/5532\u001b[0m \u001b[32m━━━━━━━━━━━━━━━━━━━━\u001b[0m\u001b[37m\u001b[0m \u001b[1m18s\u001b[0m 3ms/step - loss: 0.0136 - val_loss: 0.0127\n",
      "Epoch 16/50\n",
      "\u001b[1m5532/5532\u001b[0m \u001b[32m━━━━━━━━━━━━━━━━━━━━\u001b[0m\u001b[37m\u001b[0m \u001b[1m19s\u001b[0m 3ms/step - loss: 0.0136 - val_loss: 0.0146\n",
      "Epoch 17/50\n",
      "\u001b[1m5532/5532\u001b[0m \u001b[32m━━━━━━━━━━━━━━━━━━━━\u001b[0m\u001b[37m\u001b[0m \u001b[1m18s\u001b[0m 3ms/step - loss: 0.0133 - val_loss: 0.0124\n",
      "Epoch 18/50\n",
      "\u001b[1m5532/5532\u001b[0m \u001b[32m━━━━━━━━━━━━━━━━━━━━\u001b[0m\u001b[37m\u001b[0m \u001b[1m18s\u001b[0m 3ms/step - loss: 0.0131 - val_loss: 0.0158\n",
      "Epoch 19/50\n",
      "\u001b[1m5532/5532\u001b[0m \u001b[32m━━━━━━━━━━━━━━━━━━━━\u001b[0m\u001b[37m\u001b[0m \u001b[1m18s\u001b[0m 3ms/step - loss: 0.0130 - val_loss: 0.0135\n",
      "Epoch 20/50\n",
      "\u001b[1m5532/5532\u001b[0m \u001b[32m━━━━━━━━━━━━━━━━━━━━\u001b[0m\u001b[37m\u001b[0m \u001b[1m19s\u001b[0m 3ms/step - loss: 0.0126 - val_loss: 0.0113\n",
      "Epoch 21/50\n",
      "\u001b[1m5532/5532\u001b[0m \u001b[32m━━━━━━━━━━━━━━━━━━━━\u001b[0m\u001b[37m\u001b[0m \u001b[1m20s\u001b[0m 4ms/step - loss: 0.0125 - val_loss: 0.0116\n",
      "Epoch 22/50\n",
      "\u001b[1m5532/5532\u001b[0m \u001b[32m━━━━━━━━━━━━━━━━━━━━\u001b[0m\u001b[37m\u001b[0m \u001b[1m20s\u001b[0m 4ms/step - loss: 0.0125 - val_loss: 0.0113\n",
      "Epoch 23/50\n",
      "\u001b[1m5532/5532\u001b[0m \u001b[32m━━━━━━━━━━━━━━━━━━━━\u001b[0m\u001b[37m\u001b[0m \u001b[1m19s\u001b[0m 3ms/step - loss: 0.0125 - val_loss: 0.0116\n",
      "Epoch 24/50\n",
      "\u001b[1m5532/5532\u001b[0m \u001b[32m━━━━━━━━━━━━━━━━━━━━\u001b[0m\u001b[37m\u001b[0m \u001b[1m18s\u001b[0m 3ms/step - loss: 0.0122 - val_loss: 0.0120\n",
      "Epoch 25/50\n",
      "\u001b[1m5532/5532\u001b[0m \u001b[32m━━━━━━━━━━━━━━━━━━━━\u001b[0m\u001b[37m\u001b[0m \u001b[1m18s\u001b[0m 3ms/step - loss: 0.0122 - val_loss: 0.0152\n",
      "Epoch 26/50\n",
      "\u001b[1m5532/5532\u001b[0m \u001b[32m━━━━━━━━━━━━━━━━━━━━\u001b[0m\u001b[37m\u001b[0m \u001b[1m18s\u001b[0m 3ms/step - loss: 0.0121 - val_loss: 0.0137\n",
      "Epoch 27/50\n",
      "\u001b[1m5532/5532\u001b[0m \u001b[32m━━━━━━━━━━━━━━━━━━━━\u001b[0m\u001b[37m\u001b[0m \u001b[1m19s\u001b[0m 3ms/step - loss: 0.0120 - val_loss: 0.0111\n",
      "Epoch 28/50\n",
      "\u001b[1m5532/5532\u001b[0m \u001b[32m━━━━━━━━━━━━━━━━━━━━\u001b[0m\u001b[37m\u001b[0m \u001b[1m18s\u001b[0m 3ms/step - loss: 0.0120 - val_loss: 0.0113\n",
      "Epoch 29/50\n",
      "\u001b[1m5532/5532\u001b[0m \u001b[32m━━━━━━━━━━━━━━━━━━━━\u001b[0m\u001b[37m\u001b[0m \u001b[1m18s\u001b[0m 3ms/step - loss: 0.0119 - val_loss: 0.0122\n",
      "Epoch 30/50\n",
      "\u001b[1m5532/5532\u001b[0m \u001b[32m━━━━━━━━━━━━━━━━━━━━\u001b[0m\u001b[37m\u001b[0m \u001b[1m18s\u001b[0m 3ms/step - loss: 0.0120 - val_loss: 0.0108\n",
      "Epoch 31/50\n",
      "\u001b[1m5532/5532\u001b[0m \u001b[32m━━━━━━━━━━━━━━━━━━━━\u001b[0m\u001b[37m\u001b[0m \u001b[1m18s\u001b[0m 3ms/step - loss: 0.0117 - val_loss: 0.0110\n",
      "Epoch 32/50\n",
      "\u001b[1m5532/5532\u001b[0m \u001b[32m━━━━━━━━━━━━━━━━━━━━\u001b[0m\u001b[37m\u001b[0m \u001b[1m18s\u001b[0m 3ms/step - loss: 0.0117 - val_loss: 0.0109\n",
      "Epoch 33/50\n",
      "\u001b[1m5532/5532\u001b[0m \u001b[32m━━━━━━━━━━━━━━━━━━━━\u001b[0m\u001b[37m\u001b[0m \u001b[1m18s\u001b[0m 3ms/step - loss: 0.0117 - val_loss: 0.0108\n",
      "Epoch 34/50\n",
      "\u001b[1m5532/5532\u001b[0m \u001b[32m━━━━━━━━━━━━━━━━━━━━\u001b[0m\u001b[37m\u001b[0m \u001b[1m19s\u001b[0m 3ms/step - loss: 0.0118 - val_loss: 0.0121\n",
      "Epoch 35/50\n",
      "\u001b[1m5532/5532\u001b[0m \u001b[32m━━━━━━━━━━━━━━━━━━━━\u001b[0m\u001b[37m\u001b[0m \u001b[1m18s\u001b[0m 3ms/step - loss: 0.0118 - val_loss: 0.0115\n",
      "Epoch 36/50\n",
      "\u001b[1m5532/5532\u001b[0m \u001b[32m━━━━━━━━━━━━━━━━━━━━\u001b[0m\u001b[37m\u001b[0m \u001b[1m19s\u001b[0m 3ms/step - loss: 0.0118 - val_loss: 0.0129\n",
      "Epoch 37/50\n",
      "\u001b[1m5532/5532\u001b[0m \u001b[32m━━━━━━━━━━━━━━━━━━━━\u001b[0m\u001b[37m\u001b[0m \u001b[1m18s\u001b[0m 3ms/step - loss: 0.0117 - val_loss: 0.0141\n",
      "Epoch 38/50\n",
      "\u001b[1m5532/5532\u001b[0m \u001b[32m━━━━━━━━━━━━━━━━━━━━\u001b[0m\u001b[37m\u001b[0m \u001b[1m18s\u001b[0m 3ms/step - loss: 0.0118 - val_loss: 0.0112\n",
      "Epoch 39/50\n",
      "\u001b[1m5532/5532\u001b[0m \u001b[32m━━━━━━━━━━━━━━━━━━━━\u001b[0m\u001b[37m\u001b[0m \u001b[1m19s\u001b[0m 3ms/step - loss: 0.0117 - val_loss: 0.0109\n",
      "Epoch 40/50\n",
      "\u001b[1m5532/5532\u001b[0m \u001b[32m━━━━━━━━━━━━━━━━━━━━\u001b[0m\u001b[37m\u001b[0m \u001b[1m18s\u001b[0m 3ms/step - loss: 0.0115 - val_loss: 0.0107\n",
      "Epoch 41/50\n",
      "\u001b[1m5532/5532\u001b[0m \u001b[32m━━━━━━━━━━━━━━━━━━━━\u001b[0m\u001b[37m\u001b[0m \u001b[1m19s\u001b[0m 3ms/step - loss: 0.0116 - val_loss: 0.0147\n",
      "Epoch 42/50\n",
      "\u001b[1m5532/5532\u001b[0m \u001b[32m━━━━━━━━━━━━━━━━━━━━\u001b[0m\u001b[37m\u001b[0m \u001b[1m18s\u001b[0m 3ms/step - loss: 0.0116 - val_loss: 0.0123\n",
      "Epoch 43/50\n",
      "\u001b[1m5532/5532\u001b[0m \u001b[32m━━━━━━━━━━━━━━━━━━━━\u001b[0m\u001b[37m\u001b[0m \u001b[1m19s\u001b[0m 3ms/step - loss: 0.0116 - val_loss: 0.0111\n",
      "Epoch 44/50\n",
      "\u001b[1m5532/5532\u001b[0m \u001b[32m━━━━━━━━━━━━━━━━━━━━\u001b[0m\u001b[37m\u001b[0m \u001b[1m19s\u001b[0m 3ms/step - loss: 0.0117 - val_loss: 0.0109\n",
      "Epoch 45/50\n",
      "\u001b[1m5532/5532\u001b[0m \u001b[32m━━━━━━━━━━━━━━━━━━━━\u001b[0m\u001b[37m\u001b[0m \u001b[1m18s\u001b[0m 3ms/step - loss: 0.0115 - val_loss: 0.0109\n",
      "Epoch 46/50\n",
      "\u001b[1m5532/5532\u001b[0m \u001b[32m━━━━━━━━━━━━━━━━━━━━\u001b[0m\u001b[37m\u001b[0m \u001b[1m21s\u001b[0m 4ms/step - loss: 0.0116 - val_loss: 0.0126\n",
      "Epoch 47/50\n",
      "\u001b[1m5532/5532\u001b[0m \u001b[32m━━━━━━━━━━━━━━━━━━━━\u001b[0m\u001b[37m\u001b[0m \u001b[1m19s\u001b[0m 3ms/step - loss: 0.0118 - val_loss: 0.0118\n",
      "Epoch 48/50\n",
      "\u001b[1m5532/5532\u001b[0m \u001b[32m━━━━━━━━━━━━━━━━━━━━\u001b[0m\u001b[37m\u001b[0m \u001b[1m16s\u001b[0m 3ms/step - loss: 0.0116 - val_loss: 0.0114\n",
      "Epoch 49/50\n",
      "\u001b[1m5532/5532\u001b[0m \u001b[32m━━━━━━━━━━━━━━━━━━━━\u001b[0m\u001b[37m\u001b[0m \u001b[1m16s\u001b[0m 3ms/step - loss: 0.0115 - val_loss: 0.0136\n",
      "Epoch 50/50\n",
      "\u001b[1m5532/5532\u001b[0m \u001b[32m━━━━━━━━━━━━━━━━━━━━\u001b[0m\u001b[37m\u001b[0m \u001b[1m17s\u001b[0m 3ms/step - loss: 0.0115 - val_loss: 0.0113\n"
     ]
    },
    {
     "data": {
      "text/plain": [
       "<keras.src.callbacks.history.History at 0x18e10bdcf20>"
      ]
     },
     "execution_count": 43,
     "metadata": {},
     "output_type": "execute_result"
    }
   ],
   "source": [
    "# Initilize the GRU Model\n",
    "gru_model = Sequential()\n",
    "\n",
    "# Add a GRU Layer\n",
    "gru_model.add(GRU(64, activation='relu', input_shape = (1, X_train_reshaped.shape[2])))\n",
    "\n",
    "# Add a dense layer\n",
    "gru_model.add(Dense(1))\n",
    "\n",
    "# Compile the GRU model\n",
    "gru_model.compile(optimizer='adam', loss = 'mse')\n",
    "\n",
    "# Train the gru model\n",
    "gru_model.fit(\n",
    "    X_train_reshaped,y_train, epochs=50, batch_size=32, validation_data=(X_valid_reshaped, y_valid))"
   ]
  },
  {
   "cell_type": "code",
   "execution_count": 45,
   "id": "2d9f9a0c-0bb5-4965-9aba-d8221c973869",
   "metadata": {},
   "outputs": [
    {
     "name": "stdout",
     "output_type": "stream",
     "text": [
      "\u001b[1m1383/1383\u001b[0m \u001b[32m━━━━━━━━━━━━━━━━━━━━\u001b[0m\u001b[37m\u001b[0m \u001b[1m2s\u001b[0m 1ms/step\n",
      " GRU Validation MAPE: 0.08524008827431898\n"
     ]
    }
   ],
   "source": [
    "# Gru Predictions\n",
    "\n",
    "gru_preds = np.expm1(gru_model.predict(X_valid_reshaped))\n",
    "gru_mape = mean_absolute_percentage_error(np.expm1(y_valid), gru_preds)\n",
    "\n",
    "print(f\" GRU Validation MAPE: {gru_mape}\")"
   ]
  },
  {
   "cell_type": "code",
   "execution_count": 46,
   "id": "e0862810-9f86-4b15-84ce-72cb642e8d48",
   "metadata": {},
   "outputs": [
    {
     "data": {
      "text/plain": [
       "array([[1314.7603 ],\n",
       "       [1023.6653 ],\n",
       "       [ 320.03592],\n",
       "       ...,\n",
       "       [  22.20989],\n",
       "       [1312.9684 ],\n",
       "       [1032.5599 ]], dtype=float32)"
      ]
     },
     "execution_count": 46,
     "metadata": {},
     "output_type": "execute_result"
    }
   ],
   "source": [
    "gru_preds"
   ]
  },
  {
   "cell_type": "code",
   "execution_count": 47,
   "id": "3d623958-b1cf-479d-9729-294295a688d2",
   "metadata": {},
   "outputs": [
    {
     "data": {
      "image/png": "[encoded data removed]",
      "text/plain": [
       "<Figure size 640x480 with 1 Axes>"
      ]
     },
     "metadata": {},
     "output_type": "display_data"
    }
   ],
   "source": [
    "# Plot the loss curve\n",
    "\n",
    "plt.plot(history.history['loss'], label='Train')\n",
    "plt.plot(history.history['val_loss'], label='Val')\n",
    "plt.title(\"Loss Curve\")\n",
    "plt.xlabel(\"Epochs\")\n",
    "plt.ylabel(\"Loss\")\n",
    "plt.legend()\n",
    "plt.show()"
   ]
  },
  {
   "cell_type": "code",
   "execution_count": 49,
   "id": "9b89eac1-7d50-4316-8366-6e46007e24af",
   "metadata": {},
   "outputs": [
    {
     "name": "stdout",
     "output_type": "stream",
     "text": [
      "\u001b[1m3080/3080\u001b[0m \u001b[32m━━━━━━━━━━━━━━━━━━━━\u001b[0m\u001b[37m\u001b[0m \u001b[1m6s\u001b[0m 2ms/step\n",
      "Test Predicitions:\n",
      "[[118.24593]\n",
      " [746.41815]\n",
      " [637.73236]\n",
      " [351.952  ]\n",
      " [402.5604 ]]\n"
     ]
    }
   ],
   "source": [
    "# Convert the 'data' column in test data to datetime format\n",
    "\n",
    "test_data['date'] = pd.to_datetime(test_data['date'])\n",
    "\n",
    "# Extract year, month, and day from the 'date' column\n",
    "\n",
    "test_data['Year'] = test_data['date'].dt.year\n",
    "test_data['Month'] = test_data['date'].dt.month\n",
    "test_data['Day'] = test_data['date'].dt.day\n",
    "\n",
    "# Drop Unnecessary columns\n",
    "test_data = test_data.drop(['id', 'date'], axis = 1)\n",
    "\n",
    "# Encode categorical columns in the test data\n",
    "for col in categorical_cols:\n",
    "    test_data[col] = label_encoders[col].transform(test_data[col])\n",
    "\n",
    "# Extract the features for the test data\n",
    "X_test = test_data\n",
    "\n",
    "# Scale the test features using the same scaler fitted on the training data\n",
    "X_test_scaled = scaler.transform(X_test)\n",
    "\n",
    "# Reshape the test features for GRU input\n",
    "X_test_reshaped = X_test_scaled.reshape(X_test_scaled.shape[0], 1, X_test_scaled.shape[1])\n",
    "\n",
    "# Make predictions on the test data using the trained GRU model\n",
    "gru_test_preds = np.expm1(gru_model.predict(X_test_reshaped))\n",
    "\n",
    "# Print a few predicitions for varification\n",
    "print(\"Test Predicitions:\")\n",
    "print(gru_test_preds[:5])# Display the first 5 Predicitions\n",
    "\n",
    "                            "
   ]
  },
  {
   "cell_type": "code",
   "execution_count": 50,
   "id": "ced763dc-9636-4e58-a6ca-7cf4ec9279a5",
   "metadata": {},
   "outputs": [
    {
     "data": {
      "text/html": [
       "<div>\n",
       "<style scoped>\n",
       "    .dataframe tbody tr th:only-of-type {\n",
       "        vertical-align: middle;\n",
       "    }\n",
       "\n",
       "    .dataframe tbody tr th {\n",
       "        vertical-align: top;\n",
       "    }\n",
       "\n",
       "    .dataframe thead th {\n",
       "        text-align: right;\n",
       "    }\n",
       "</style>\n",
       "<table border=\"1\" class=\"dataframe\">\n",
       "  <thead>\n",
       "    <tr style=\"text-align: right;\">\n",
       "      <th></th>\n",
       "      <th>id</th>\n",
       "      <th>num_sold</th>\n",
       "    </tr>\n",
       "  </thead>\n",
       "  <tbody>\n",
       "    <tr>\n",
       "      <th>0</th>\n",
       "      <td>230130</td>\n",
       "      <td>118.245934</td>\n",
       "    </tr>\n",
       "    <tr>\n",
       "      <th>1</th>\n",
       "      <td>230131</td>\n",
       "      <td>746.418152</td>\n",
       "    </tr>\n",
       "    <tr>\n",
       "      <th>2</th>\n",
       "      <td>230132</td>\n",
       "      <td>637.732361</td>\n",
       "    </tr>\n",
       "    <tr>\n",
       "      <th>3</th>\n",
       "      <td>230133</td>\n",
       "      <td>351.951996</td>\n",
       "    </tr>\n",
       "    <tr>\n",
       "      <th>4</th>\n",
       "      <td>230134</td>\n",
       "      <td>402.560394</td>\n",
       "    </tr>\n",
       "    <tr>\n",
       "      <th>...</th>\n",
       "      <td>...</td>\n",
       "      <td>...</td>\n",
       "    </tr>\n",
       "    <tr>\n",
       "      <th>98545</th>\n",
       "      <td>328675</td>\n",
       "      <td>477.926849</td>\n",
       "    </tr>\n",
       "    <tr>\n",
       "      <th>98546</th>\n",
       "      <td>328676</td>\n",
       "      <td>2950.040283</td>\n",
       "    </tr>\n",
       "    <tr>\n",
       "      <th>98547</th>\n",
       "      <td>328677</td>\n",
       "      <td>2278.665283</td>\n",
       "    </tr>\n",
       "    <tr>\n",
       "      <th>98548</th>\n",
       "      <td>328678</td>\n",
       "      <td>1392.461670</td>\n",
       "    </tr>\n",
       "    <tr>\n",
       "      <th>98549</th>\n",
       "      <td>328679</td>\n",
       "      <td>1425.278809</td>\n",
       "    </tr>\n",
       "  </tbody>\n",
       "</table>\n",
       "<p>98550 rows × 2 columns</p>\n",
       "</div>"
      ],
      "text/plain": [
       "           id     num_sold\n",
       "0      230130   118.245934\n",
       "1      230131   746.418152\n",
       "2      230132   637.732361\n",
       "3      230133   351.951996\n",
       "4      230134   402.560394\n",
       "...       ...          ...\n",
       "98545  328675   477.926849\n",
       "98546  328676  2950.040283\n",
       "98547  328677  2278.665283\n",
       "98548  328678  1392.461670\n",
       "98549  328679  1425.278809\n",
       "\n",
       "[98550 rows x 2 columns]"
      ]
     },
     "execution_count": 50,
     "metadata": {},
     "output_type": "execute_result"
    }
   ],
   "source": [
    "# prepare the submission DataFrame\n",
    "\n",
    "sub = pd.read_csv('https://raw.github.com/Jatinyadav2183/Playground-Series-s5e1/main/sample_submission.csv')\n",
    "\n",
    "sub['num_sold'] = gru_test_preds\n",
    "sub.to_csv('Submission.csv', index = False)\n",
    "sub"
   ]
  },
  {
   "cell_type": "code",
   "execution_count": null,
   "id": "b1c61594-3a41-462c-a5df-8904beeeb234",
   "metadata": {},
   "outputs": [],
   "source": []
  }
 ],
 "metadata": {
  "kernelspec": {
   "display_name": "Python 3 (ipykernel)",
   "language": "python",
   "name": "python3"
  },
  "language_info": {
   "codemirror_mode": {
    "name": "ipython",
    "version": 3
   },
   "file_extension": ".py",
   "mimetype": "text/x-python",
   "name": "python",
   "nbconvert_exporter": "python",
   "pygments_lexer": "ipython3",
   "version": "3.12.4"
  }
 },
 "nbformat": 4,
 "nbformat_minor": 5
}
